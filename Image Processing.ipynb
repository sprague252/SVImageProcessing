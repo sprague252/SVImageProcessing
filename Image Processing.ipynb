{
  "cells": [
    {
      "metadata": {},
      "cell_type": "markdown",
      "source": "# Image Processing"
    },
    {
      "metadata": {},
      "cell_type": "markdown",
      "source": "This Jupyter notebook demonstrates how to import images (RAW and other formats) and do spacial Fourier transforms to obtain and display spacial power spectra."
    },
    {
      "metadata": {},
      "cell_type": "markdown",
      "source": "* Press `shift`-`enter` or `shift`-`return` when the cursor in in a cell or the cell is selected to run the code in the cell.\n* Run the code cells in order for this demonstration.\n* Remember that the order in which you run the cells is important, not the order they appear in the notebook.\n* Use this code as an example. Change the files and parameters to fit your needs."
    },
    {
      "metadata": {},
      "cell_type": "markdown",
      "source": "## Import Modules"
    },
    {
      "metadata": {},
      "cell_type": "markdown",
      "source": "The cell below to import the numerical and graphing modules and to configure the graphics interface."
    },
    {
      "metadata": {
        "trusted": true
      },
      "cell_type": "code",
      "source": "import numpy as np\nimport matplotlib.pyplot as plt",
      "execution_count": null,
      "outputs": []
    },
    {
      "metadata": {},
      "cell_type": "markdown",
      "source": "The cell below installs the `rawpy` module. You may need it if you are running this notebook on Azure. (For some reason Azure does not import `rawpy`, even though it is in the configuration.) If you are running this notebook on a different plarform with `rawpy` already installed, you can skip this cell."
    },
    {
      "metadata": {
        "trusted": true
      },
      "cell_type": "code",
      "source": "!pip install rawpy",
      "execution_count": null,
      "outputs": []
    },
    {
      "metadata": {},
      "cell_type": "markdown",
      "source": "The next cell loads image modules."
    },
    {
      "metadata": {
        "trusted": true
      },
      "cell_type": "code",
      "source": "import rawpy\nimport PIL",
      "execution_count": null,
      "outputs": []
    },
    {
      "metadata": {},
      "cell_type": "markdown",
      "source": "## Importing RAW Images"
    },
    {
      "metadata": {},
      "cell_type": "markdown",
      "source": "The cell below imports the RAW file named `'APC_0005.dng'` into a variable named `rgb`."
    },
    {
      "metadata": {
        "trusted": true
      },
      "cell_type": "code",
      "source": "raw = rawpy.imread('APC_0005.dng')\nrgb = raw.postprocess(use_camera_wb=True)\nraw.close()",
      "execution_count": null,
      "outputs": []
    },
    {
      "metadata": {
        "trusted": true
      },
      "cell_type": "code",
      "source": "plt.imshow(rgb)",
      "execution_count": null,
      "outputs": []
    },
    {
      "metadata": {},
      "cell_type": "markdown",
      "source": "## Importing JPEG and Other Images"
    },
    {
      "metadata": {},
      "cell_type": "markdown",
      "source": "We use a different function to import JPEG, PNG, TIFF, or other images."
    },
    {
      "metadata": {
        "trusted": true
      },
      "cell_type": "code",
      "source": "im = PIL.Image.open('TigerLilly.jpg')\nxmin, ymin, xmax, ymax = im.getbbox()\nimdata_rgb = np.array(im.getdata()).reshape(ymax-ymin, xmax-xmin, 3)\nim.close()",
      "execution_count": null,
      "outputs": []
    },
    {
      "metadata": {
        "trusted": true
      },
      "cell_type": "code",
      "source": "plt.imshow(imdata_rgb)",
      "execution_count": null,
      "outputs": []
    },
    {
      "metadata": {},
      "cell_type": "markdown",
      "source": "## Image Calculations"
    },
    {
      "metadata": {},
      "cell_type": "markdown",
      "source": "Now we are going to do some calculations with the the imported RAW image, which is stored in the variable `rgb`."
    },
    {
      "metadata": {},
      "cell_type": "markdown",
      "source": "The cell below gives the shape of `rgb`. The first index is the y size. The second is the x size. The third is the number of color channels (3 for red, green, and blue)."
    },
    {
      "metadata": {
        "trusted": true
      },
      "cell_type": "code",
      "source": "rgb.shape",
      "execution_count": null,
      "outputs": []
    },
    {
      "metadata": {},
      "cell_type": "markdown",
      "source": "The cell below stores the size of the x and y dimensions into variables (with shorter names) so we can use them later."
    },
    {
      "metadata": {
        "trusted": true
      },
      "cell_type": "code",
      "source": "Nx = rgb.shape[1]\nNy = rgb.shape[0]",
      "execution_count": null,
      "outputs": []
    },
    {
      "metadata": {},
      "cell_type": "markdown",
      "source": "Notice in the RAW section above, the origin of the image by default is in the upper left corner. This if different than our regular convention for the y values to increase in the upward direction. For convenience, we will create a new variable with the y-index reversed so the origin is in the lower left corner and the y-values increase in the upward direction. Note that this step is not necessary. All out subsequent calculations will work otherwise, but we want the coordinate system to make sense."
    },
    {
      "metadata": {},
      "cell_type": "markdown",
      "source": "The cell below creates a new variable `pic` with the y-index reversed."
    },
    {
      "metadata": {
        "trusted": true
      },
      "cell_type": "code",
      "source": "pic = rgb[::-1,:]",
      "execution_count": null,
      "outputs": []
    },
    {
      "metadata": {},
      "cell_type": "markdown",
      "source": "The cell below displays `pic` with the origin in the lower left corner. Notice the y values are now in the standard order."
    },
    {
      "metadata": {
        "trusted": true
      },
      "cell_type": "code",
      "source": "plt.imshow(pic, origin='lower')",
      "execution_count": null,
      "outputs": []
    },
    {
      "metadata": {},
      "cell_type": "markdown",
      "source": "### Red Channel"
    },
    {
      "metadata": {},
      "cell_type": "markdown",
      "source": "The cell below plots the red channel of `pic`. The red channel is the first component in the last (color) dimension of `pic`. Remember tht in Python the first componnt of an array or list is number 0. We use a red color scale in the image below to represent the red channel."
    },
    {
      "metadata": {
        "trusted": true
      },
      "cell_type": "code",
      "source": "plt.imshow(pic[:,:,0], cmap='Reds', origin='lower')",
      "execution_count": null,
      "outputs": []
    },
    {
      "metadata": {},
      "cell_type": "markdown",
      "source": "Now we take a 2-D Fourier teansform (transform in both the x and y directions) of the red channel."
    },
    {
      "metadata": {
        "trusted": true
      },
      "cell_type": "code",
      "source": "red_fft = np.fft.fft2(pic[:,:,0])",
      "execution_count": null,
      "outputs": []
    },
    {
      "metadata": {},
      "cell_type": "markdown",
      "source": "The cell below calculates the frequency values in the Fourier transform we just did. (We will use these same frequency values for the green and blue channels as well.) Since this is a spacial Fourier transform (the data is a function of position, not time), the frequncy values are called *wavenumbers*."
    },
    {
      "metadata": {
        "trusted": true
      },
      "cell_type": "code",
      "source": "xfreqs = np.fft.fftfreq(Nx)\nyfreqs = np.fft.fftfreq(Ny)",
      "execution_count": null,
      "outputs": []
    },
    {
      "metadata": {},
      "cell_type": "markdown",
      "source": "The two cells below calculate the minimum and maximum power spectrum values for the signal. We take the logarithm of the power spectrum to compress the scale, much like we did for sound."
    },
    {
      "metadata": {
        "trusted": true
      },
      "cell_type": "code",
      "source": "np.min(20*np.log10(np.abs(red_fft)))",
      "execution_count": null,
      "outputs": []
    },
    {
      "metadata": {
        "trusted": true
      },
      "cell_type": "code",
      "source": "np.max(20*np.log10(np.abs(red_fft)))",
      "execution_count": null,
      "outputs": []
    },
    {
      "metadata": {},
      "cell_type": "markdown",
      "source": "The cell below shows the red channel spacial power spectrum. We use a decibel scale to compress the range of values much like we did with sound data. We use the standard color map (viridis) instead of the red color map because it is better at displaying a differences in values over a large range. We set the minimum and maximum values on the color scale with the `vmin` and `vmax` parameters in the `ax.imshow` command. (Try setting them to different values.) Notice that most of the large values are near the origin."
    },
    {
      "metadata": {
        "trusted": true
      },
      "cell_type": "code",
      "source": "fig, ax = plt.subplots(figsize=(10,20))\ncax = ax.imshow(20*np.log10(np.abs(red_fft[:Ny//2+1,:Nx//2+1])), origin='lower', \n                extent=(xfreqs[0], -xfreqs[Nx//2], yfreqs[0], -yfreqs[Ny//2]), \n                vmin=60, vmax=140)\nax.set_xlabel('x Wavenumber')\nax.set_ylabel('y Wavenumber')\nax.set_title('Red Channel')\nfig.colorbar(cax, shrink=0.4, label='PSD (dB)');",
      "execution_count": null,
      "outputs": []
    },
    {
      "metadata": {},
      "cell_type": "markdown",
      "source": "The cell below displays the same image as the previous cell, but it compresses the color scale so the details are visible. Notce the diagonal line of high values in the lower left of the image, which is at the same angle and the light and dark pattern. "
    },
    {
      "metadata": {
        "trusted": true
      },
      "cell_type": "code",
      "source": "fig, ax = plt.subplots(figsize=(10,20))\ncax = ax.imshow(20*np.log10(np.abs(red_fft[:Ny//2+1,:Nx//2+1])), origin='lower', \n                extent=(xfreqs[0], -xfreqs[Nx//2], yfreqs[0], -yfreqs[Ny//2]), \n                vmin=60, vmax=100)\nax.set_xlabel('x Wavenumber')\nax.set_ylabel('y Wavenumber')\nax.set_title('Red Channel')\nfig.colorbar(cax, shrink=0.4, label='PSD (dB)');",
      "execution_count": null,
      "outputs": []
    },
    {
      "metadata": {},
      "cell_type": "markdown",
      "source": "### Green Channel"
    },
    {
      "metadata": {},
      "cell_type": "markdown",
      "source": "The cell below displays the green channel with a green color map."
    },
    {
      "metadata": {
        "trusted": true
      },
      "cell_type": "code",
      "source": "plt.imshow(pic[:,:,1], cmap='Greens', origin='lower')",
      "execution_count": null,
      "outputs": []
    },
    {
      "metadata": {},
      "cell_type": "markdown",
      "source": "The rest of the cells in this section perform the same calculations done for the red channel on the green channel."
    },
    {
      "metadata": {
        "trusted": true
      },
      "cell_type": "code",
      "source": "green_fft = np.fft.fft2(pic[:,:,1])",
      "execution_count": null,
      "outputs": []
    },
    {
      "metadata": {
        "trusted": true
      },
      "cell_type": "code",
      "source": "np.min(20*np.log10(np.abs(green_fft)))",
      "execution_count": null,
      "outputs": []
    },
    {
      "metadata": {
        "trusted": true
      },
      "cell_type": "code",
      "source": "np.max(20*np.log10(np.abs(green_fft)))",
      "execution_count": null,
      "outputs": []
    },
    {
      "metadata": {
        "trusted": true
      },
      "cell_type": "code",
      "source": "fig, ax = plt.subplots(figsize=(10,20))\ncax = ax.imshow(20*np.log10(np.abs(green_fft[:Ny//2+1,:Nx//2+1])), origin='lower', \n                extent=(xfreqs[0], -xfreqs[Nx//2], yfreqs[0], -yfreqs[Ny//2]), \n                vmin=60, vmax=140)\nax.set_xlabel('x Wavenumber')\nax.set_ylabel('y Wavenumber')\nax.set_title('Green Channel')\nfig.colorbar(cax, shrink=0.4, label='PSD (dB)');",
      "execution_count": null,
      "outputs": []
    },
    {
      "metadata": {
        "trusted": true
      },
      "cell_type": "code",
      "source": "fig, ax = plt.subplots(figsize=(10,20))\ncax = ax.imshow(20*np.log10(np.abs(green_fft[:Ny//2+1,:Nx//2+1])), origin='lower', \n                extent=(xfreqs[0], -xfreqs[Nx//2], yfreqs[0], -yfreqs[Ny//2]), \n                vmin=60, vmax=100)\nax.set_xlabel('x Wavenumber')\nax.set_ylabel('y Wavenumber')\nax.set_title('Green Channel')\nfig.colorbar(cax, shrink=0.4, label='PSD (dB)')",
      "execution_count": null,
      "outputs": []
    },
    {
      "metadata": {},
      "cell_type": "markdown",
      "source": "### Blue Channel"
    },
    {
      "metadata": {},
      "cell_type": "markdown",
      "source": "The cell below displays the blue channel with a blue color map."
    },
    {
      "metadata": {
        "trusted": true
      },
      "cell_type": "code",
      "source": "plt.imshow(pic[:,:,1], cmap='Blues', origin='lower')",
      "execution_count": null,
      "outputs": []
    },
    {
      "metadata": {},
      "cell_type": "markdown",
      "source": "The rest of the cells in this section perform the same calculations done for the red and green channels on the blue channel."
    },
    {
      "metadata": {
        "trusted": true
      },
      "cell_type": "code",
      "source": "blue_fft = np.fft.fft2(pic[:,:,2])",
      "execution_count": null,
      "outputs": []
    },
    {
      "metadata": {
        "trusted": true
      },
      "cell_type": "code",
      "source": "np.min(20*np.log10(np.abs(blue_fft)))",
      "execution_count": null,
      "outputs": []
    },
    {
      "metadata": {
        "trusted": true
      },
      "cell_type": "code",
      "source": "np.max(20*np.log10(np.abs(blue_fft)))",
      "execution_count": null,
      "outputs": []
    },
    {
      "metadata": {
        "trusted": true
      },
      "cell_type": "code",
      "source": "fig, ax = plt.subplots(figsize=(10,20))\ncax = ax.imshow(20*np.log10(np.abs(blue_fft[:Ny//2+1,:Nx//2+1])), origin='lower', \n                extent=(xfreqs[0], -xfreqs[Nx//2], yfreqs[0], -yfreqs[Ny//2]), \n                vmin=60, vmax=140)\nax.set_xlabel('x Wavenumber')\nax.set_ylabel('y Wavenumber')\nax.set_title('Blue Channel')\nfig.colorbar(cax, shrink=0.4, label=\"log(PSD)\");",
      "execution_count": null,
      "outputs": []
    },
    {
      "metadata": {
        "trusted": true
      },
      "cell_type": "code",
      "source": "fig, ax = plt.subplots(figsize=(10,20))\ncax = ax.imshow(20*np.log10(np.abs(blue_fft[:Ny//2+1,:Nx//2+1])), origin='lower', \n                extent=(xfreqs[0], -xfreqs[Nx//2], yfreqs[0], -yfreqs[Ny//2]), \n                vmin=60, vmax=95)\nax.set_xlabel('x Wavenumber')\nax.set_ylabel('y Wavenumber')\nax.set_title('Blue Channel')\nfig.colorbar(cax, shrink=0.4, label='PSD (dB)');",
      "execution_count": null,
      "outputs": []
    }
  ],
  "metadata": {
    "kernelspec": {
      "name": "python36",
      "display_name": "Python 3.6",
      "language": "python"
    },
    "language_info": {
      "mimetype": "text/x-python",
      "nbconvert_exporter": "python",
      "name": "python",
      "pygments_lexer": "ipython3",
      "version": "3.6.6",
      "file_extension": ".py",
      "codemirror_mode": {
        "version": 3,
        "name": "ipython"
      }
    }
  },
  "nbformat": 4,
  "nbformat_minor": 4
}