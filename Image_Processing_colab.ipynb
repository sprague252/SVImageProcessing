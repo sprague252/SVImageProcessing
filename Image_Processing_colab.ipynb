{
  "cells": [
    {
      "cell_type": "markdown",
      "metadata": {
        "id": "view-in-github"
      },
      "source": [
        "<a href=\"https://colab.research.google.com/github/sprague252/SVImageProcessing/blob/master/Image_Processing_colab.ipynb\" target=\"_parent\"><img src=\"https://colab.research.google.com/assets/colab-badge.svg\" alt=\"Open In Colab\"/></a>"
      ]
    },
    {
      "cell_type": "markdown",
      "metadata": {
        "collapsed": false,
        "id": "L9xaO8FaTL9p"
      },
      "source": [
        "# Image Processing"
      ]
    },
    {
      "cell_type": "markdown",
      "metadata": {
        "id": "d7LCtWtbWNfO"
      },
      "source": [
        "\n",
        "*This is the Google Colab version of this notebook. It adds the commands to install the necessary packages in order to run.*"
      ]
    },
    {
      "cell_type": "markdown",
      "metadata": {
        "collapsed": false,
        "id": "ymYDUkn3TL9s"
      },
      "source": [
        "This Jupyter notebook demonstrates how to import images (RAW and other formats) and do spacial Fourier transforms to obtain and display spacial power spectra."
      ]
    },
    {
      "cell_type": "markdown",
      "metadata": {
        "collapsed": false,
        "id": "0Zs_5kV2TL9s"
      },
      "source": [
        "* Press `shift`-`enter` or `shift`-`return` when the cursor in in a cell or the cell is selected to run the code in the cell.\n",
        "* Run the code cells in order for this demonstration.\n",
        "* Remember that the order in which you run the cells is important, not the order they appear in the notebook.\n",
        "* Use this code as an example. Change the files and parameters to fit your needs."
      ]
    },
    {
      "cell_type": "code",
      "execution_count": null,
      "metadata": {
        "id": "bfjnB_n7U3Li"
      },
      "outputs": [],
      "source": [
        "from google.colab import drive\n",
        "drive.mount('/content/gdrive')\n",
        "%cd 'gdrive/MyDrive/Summer Ventures/SVImageProcessing'"
      ]
    },
    {
      "cell_type": "code",
      "execution_count": null,
      "metadata": {
        "id": "YJH-XQalbtf1"
      },
      "outputs": [],
      "source": [
        "%ls"
      ]
    },
    {
      "cell_type": "markdown",
      "metadata": {
        "id": "xVsMcCfaWv2B"
      },
      "source": [
        "## Install Module into Colab"
      ]
    },
    {
      "cell_type": "code",
      "execution_count": null,
      "metadata": {
        "id": "QxHFjBLGW6w8"
      },
      "outputs": [],
      "source": [
        "%pip install rawpy numpy>=2.0.0 matplotlib>=3.8.4"
      ]
    },
    {
      "cell_type": "markdown",
      "metadata": {
        "collapsed": false,
        "id": "UB0UeZKKTL9s"
      },
      "source": [
        "## Import Modules"
      ]
    },
    {
      "cell_type": "markdown",
      "metadata": {
        "collapsed": false,
        "id": "DrxfFQ8KTL9t"
      },
      "source": [
        "The cell below to import the numerical and graphing modules and to configure the graphics interface."
      ]
    },
    {
      "cell_type": "code",
      "execution_count": null,
      "metadata": {
        "id": "-kQLZZCCTL9t"
      },
      "outputs": [],
      "source": [
        "import numpy as np\n",
        "import matplotlib.pyplot as plt"
      ]
    },
    {
      "cell_type": "markdown",
      "metadata": {
        "collapsed": false,
        "id": "zWNX4_0GTL9u"
      },
      "source": [
        "The next cell loads image modules."
      ]
    },
    {
      "cell_type": "code",
      "execution_count": null,
      "metadata": {
        "id": "FFqa6vkHTL9u"
      },
      "outputs": [],
      "source": [
        "import rawpy\n",
        "import PIL"
      ]
    },
    {
      "cell_type": "code",
      "execution_count": null,
      "metadata": {
        "id": "vczW9UkQktcZ"
      },
      "outputs": [],
      "source": [
        "%pwd"
      ]
    },
    {
      "cell_type": "markdown",
      "metadata": {
        "collapsed": false,
        "id": "cCPC0dpUTL9u"
      },
      "source": [
        "## Importing RAW Images"
      ]
    },
    {
      "cell_type": "markdown",
      "metadata": {
        "collapsed": false,
        "id": "-JRsWzWPTL9v"
      },
      "source": [
        "The cell below imports the RAW file named `'APC_0005.dng'` into a variable named `rgb`."
      ]
    },
    {
      "cell_type": "code",
      "execution_count": null,
      "metadata": {
        "id": "ox2mYyVwQTkG"
      },
      "outputs": [],
      "source": [
        "np. __version__"
      ]
    },
    {
      "cell_type": "code",
      "execution_count": null,
      "metadata": {
        "id": "4NBCqiK-TL9v"
      },
      "outputs": [],
      "source": [
        "raw = rawpy.imread('APC_0005.dng')\n",
        "rgb = raw.postprocess(use_camera_wb=True)\n",
        "raw.close()"
      ]
    },
    {
      "cell_type": "code",
      "execution_count": null,
      "metadata": {
        "id": "Su1wZG4PTL9v"
      },
      "outputs": [],
      "source": [
        "plt.imshow(rgb)"
      ]
    },
    {
      "cell_type": "markdown",
      "metadata": {
        "collapsed": false,
        "id": "_0zWRcAQTL9v"
      },
      "source": [
        "## Importing JPEG and Other Images"
      ]
    },
    {
      "cell_type": "markdown",
      "metadata": {
        "collapsed": false,
        "id": "hLxl_9R-TL9w"
      },
      "source": [
        "We use a different function to import JPEG, PNG, TIFF, or other images."
      ]
    },
    {
      "cell_type": "code",
      "execution_count": null,
      "metadata": {
        "id": "I43P2S3cTL9w"
      },
      "outputs": [],
      "source": [
        "im = PIL.Image.open('TigerLilly.jpg')\n",
        "xmin, ymin, xmax, ymax = im.getbbox()\n",
        "imdata_rgb = np.array(im.getdata()).reshape(ymax-ymin, xmax-xmin, 3)\n",
        "im.close()"
      ]
    },
    {
      "cell_type": "code",
      "execution_count": null,
      "metadata": {
        "id": "dXOLHkyVTL9w"
      },
      "outputs": [],
      "source": [
        "plt.imshow(imdata_rgb)"
      ]
    },
    {
      "cell_type": "markdown",
      "metadata": {
        "collapsed": false,
        "id": "DX7bs_OITL9w"
      },
      "source": [
        "## Image Calculations"
      ]
    },
    {
      "cell_type": "markdown",
      "metadata": {
        "collapsed": false,
        "id": "gNzUDp0uTL9w"
      },
      "source": [
        "Now we are going to do some calculations with the the imported RAW image, which is stored in the variable `rgb`."
      ]
    },
    {
      "cell_type": "markdown",
      "metadata": {
        "collapsed": false,
        "id": "3JEH-xlbTL9x"
      },
      "source": [
        "The cell below gives the shape of `rgb`. The first index is the y size. The second is the x size. The third is the number of color channels (3 for red, green, and blue)."
      ]
    },
    {
      "cell_type": "code",
      "execution_count": null,
      "metadata": {
        "id": "Y3HyHLNPTL9x"
      },
      "outputs": [],
      "source": [
        "rgb.shape"
      ]
    },
    {
      "cell_type": "markdown",
      "metadata": {
        "collapsed": false,
        "id": "tm8-O80MTL9x"
      },
      "source": [
        "The cell below stores the size of the x and y dimensions into variables (with shorter names) so we can use them later."
      ]
    },
    {
      "cell_type": "code",
      "execution_count": null,
      "metadata": {
        "id": "iQ1BfYsITL9x"
      },
      "outputs": [],
      "source": [
        "Nx = rgb.shape[1]\n",
        "Ny = rgb.shape[0]"
      ]
    },
    {
      "cell_type": "markdown",
      "metadata": {
        "collapsed": false,
        "id": "QaiMtmldTL9x"
      },
      "source": [
        "Notice in the RAW section above, the origin of the image by default is in the upper left corner. This if different than our regular convention for the y values to increase in the upward direction. For convenience, we will create a new variable with the y-index reversed so the origin is in the lower left corner and the y-values increase in the upward direction. Note that this step is not necessary. All out subsequent calculations will work otherwise, but we want the coordinate system to make sense."
      ]
    },
    {
      "cell_type": "markdown",
      "metadata": {
        "collapsed": false,
        "id": "dlQ4oHP6TL9y"
      },
      "source": [
        "The cell below creates a new variable `pic` with the y-index reversed."
      ]
    },
    {
      "cell_type": "code",
      "execution_count": null,
      "metadata": {
        "id": "hl9u9P-DTL_T"
      },
      "outputs": [],
      "source": [
        "pic = rgb[::-1,:]"
      ]
    },
    {
      "cell_type": "markdown",
      "metadata": {
        "collapsed": false,
        "id": "iok6KnCTTL_W"
      },
      "source": [
        "The cell below displays `pic` with the origin in the lower left corner. Notice the y values are now in the standard order."
      ]
    },
    {
      "cell_type": "code",
      "execution_count": null,
      "metadata": {
        "id": "m8BuUDTmTL_X"
      },
      "outputs": [],
      "source": [
        "plt.imshow(pic, origin='lower')"
      ]
    },
    {
      "cell_type": "markdown",
      "metadata": {
        "collapsed": false,
        "id": "8OBvltUDTL_Y"
      },
      "source": [
        "### Red Channel"
      ]
    },
    {
      "cell_type": "markdown",
      "metadata": {
        "collapsed": false,
        "id": "72_kb0rsTL_Y"
      },
      "source": [
        "The cell below plots the red channel of `pic`. The red channel is the first component in the last (color) dimension of `pic`. Remember tht in Python the first componnt of an array or list is number 0. We use a red color scale in the image below to represent the red channel."
      ]
    },
    {
      "cell_type": "code",
      "execution_count": null,
      "metadata": {
        "id": "9Gu3xnvhTL_Z"
      },
      "outputs": [],
      "source": [
        "plt.imshow(pic[:,:,0], cmap='Reds', origin='lower')"
      ]
    },
    {
      "cell_type": "markdown",
      "metadata": {
        "collapsed": false,
        "id": "dvCj1FJoTL_Z"
      },
      "source": [
        "Now we take a 2-D Fourier teansform (transform in both the x and y directions) of the red channel."
      ]
    },
    {
      "cell_type": "code",
      "execution_count": null,
      "metadata": {
        "id": "HQpe1YciTL_Z"
      },
      "outputs": [],
      "source": [
        "red_fft = np.fft.fft2(pic[:,:,0])"
      ]
    },
    {
      "cell_type": "markdown",
      "metadata": {
        "collapsed": false,
        "id": "LyYKkoDjTL_Z"
      },
      "source": [
        "The cell below calculates the frequency values in the Fourier transform we just did. (We will use these same frequency values for the green and blue channels as well.) Since this is a spacial Fourier transform (the data is a function of position, not time), the frequncy values are called *wavenumbers*."
      ]
    },
    {
      "cell_type": "code",
      "execution_count": null,
      "metadata": {
        "id": "v8X9RGd0TL_a"
      },
      "outputs": [],
      "source": [
        "xfreqs = np.fft.fftfreq(Nx)\n",
        "yfreqs = np.fft.fftfreq(Ny)"
      ]
    },
    {
      "cell_type": "markdown",
      "metadata": {
        "collapsed": false,
        "id": "Fbb9IUDtTL_a"
      },
      "source": [
        "The two cells below calculate the minimum and maximum power spectrum values for the signal. We take the logarithm of the power spectrum to compress the scale, much like we did for sound."
      ]
    },
    {
      "cell_type": "code",
      "execution_count": null,
      "metadata": {
        "id": "r8f71pwTTL_a"
      },
      "outputs": [],
      "source": [
        "np.min(20*np.log10(np.abs(red_fft)))"
      ]
    },
    {
      "cell_type": "code",
      "execution_count": null,
      "metadata": {
        "id": "1Vgy6HymTL_a"
      },
      "outputs": [],
      "source": [
        "np.max(20*np.log10(np.abs(red_fft)))"
      ]
    },
    {
      "cell_type": "markdown",
      "metadata": {
        "collapsed": false,
        "id": "x1X5vo_gTL_b"
      },
      "source": [
        "The cell below shows the red channel spacial power spectrum. We use a decibel scale to compress the range of values much like we did with sound data. We use the standard color map (viridis) instead of the red color map because it is better at displaying a differences in values over a large range. We set the minimum and maximum values on the color scale with the `vmin` and `vmax` parameters in the `ax.imshow` command. (Try setting them to different values.) Notice that most of the large values are near the origin."
      ]
    },
    {
      "cell_type": "code",
      "execution_count": null,
      "metadata": {
        "id": "r8imDNRwTL_b"
      },
      "outputs": [],
      "source": [
        "fig, ax = plt.subplots(figsize=(10,20))\n",
        "cax = ax.imshow(20*np.log10(np.abs(red_fft[:Ny//2+1,:Nx//2+1])), origin='lower',\n",
        "                extent=(xfreqs[0], -xfreqs[Nx//2], yfreqs[0], -yfreqs[Ny//2]),\n",
        "                vmin=60, vmax=140)\n",
        "ax.set_xlabel('x Wavenumber')\n",
        "ax.set_ylabel('y Wavenumber')\n",
        "ax.set_title('Red Channel')\n",
        "fig.colorbar(cax, shrink=0.4, label='PSD (dB)');"
      ]
    },
    {
      "cell_type": "markdown",
      "metadata": {
        "collapsed": false,
        "id": "R1xIVMWLTL_g"
      },
      "source": [
        "The cell below displays the same image as the previous cell, but it compresses the color scale so the details are visible. Notce the diagonal line of high values in the lower left of the image, which is at the same angle and the light and dark pattern. We are using a higher resolution setting, `dpi=300`, to see more detail."
      ]
    },
    {
      "cell_type": "code",
      "execution_count": null,
      "metadata": {
        "id": "FFdfhdJ8TL_g"
      },
      "outputs": [],
      "source": [
        "fig, ax = plt.subplots(figsize=(10,20), dpi=300)\n",
        "cax = ax.imshow(20*np.log10(np.abs(red_fft[:Ny//2+1,:Nx//2+1])), origin='lower',\n",
        "                extent=(xfreqs[0], -xfreqs[Nx//2], yfreqs[0], -yfreqs[Ny//2]),\n",
        "                vmin=60, vmax=100)\n",
        "ax.set_xlabel('x Wavenumber')\n",
        "ax.set_ylabel('y Wavenumber')\n",
        "ax.set_title('Red Channel')\n",
        "fig.colorbar(cax, shrink=0.4, label='PSD (dB)');"
      ]
    },
    {
      "cell_type": "markdown",
      "metadata": {
        "collapsed": false,
        "id": "QNx8_oPATL_h"
      },
      "source": [
        "### Green Channel"
      ]
    },
    {
      "cell_type": "markdown",
      "metadata": {
        "collapsed": false,
        "id": "bEiEzcTbTL_h"
      },
      "source": [
        "The cell below displays the green channel with a green color map."
      ]
    },
    {
      "cell_type": "code",
      "execution_count": null,
      "metadata": {
        "id": "MSBBQBuZTL_h"
      },
      "outputs": [],
      "source": [
        "plt.imshow(pic[:,:,1], cmap='Greens', origin='lower')"
      ]
    },
    {
      "cell_type": "markdown",
      "metadata": {
        "collapsed": false,
        "id": "fxQIDKK0TL_i"
      },
      "source": [
        "The rest of the cells in this section perform the same calculations done for the red channel on the green channel."
      ]
    },
    {
      "cell_type": "code",
      "execution_count": null,
      "metadata": {
        "id": "O_VNJfiXTL_i"
      },
      "outputs": [],
      "source": [
        "green_fft = np.fft.fft2(pic[:,:,1])"
      ]
    },
    {
      "cell_type": "code",
      "execution_count": null,
      "metadata": {
        "id": "NS0j4C8OTL_i"
      },
      "outputs": [],
      "source": [
        "np.min(20*np.log10(np.abs(green_fft)))"
      ]
    },
    {
      "cell_type": "code",
      "execution_count": null,
      "metadata": {
        "id": "iRgd65SyTL_i"
      },
      "outputs": [],
      "source": [
        "np.max(20*np.log10(np.abs(green_fft)))"
      ]
    },
    {
      "cell_type": "code",
      "execution_count": null,
      "metadata": {
        "id": "FSPS5TxsTL_i"
      },
      "outputs": [],
      "source": [
        "fig, ax = plt.subplots(figsize=(10,20))\n",
        "cax = ax.imshow(20*np.log10(np.abs(green_fft[:Ny//2+1,:Nx//2+1])), origin='lower',\n",
        "                extent=(xfreqs[0], -xfreqs[Nx//2], yfreqs[0], -yfreqs[Ny//2]),\n",
        "                vmin=60, vmax=140)\n",
        "ax.set_xlabel('x Wavenumber')\n",
        "ax.set_ylabel('y Wavenumber')\n",
        "ax.set_title('Green Channel')\n",
        "fig.colorbar(cax, shrink=0.4, label='PSD (dB)');"
      ]
    },
    {
      "cell_type": "code",
      "execution_count": null,
      "metadata": {
        "id": "ZX9_uPbQTL_j"
      },
      "outputs": [],
      "source": [
        "fig, ax = plt.subplots(figsize=(10,20), dpi=300)\n",
        "cax = ax.imshow(20*np.log10(np.abs(green_fft[:Ny//2+1,:Nx//2+1])), origin='lower',\n",
        "                extent=(xfreqs[0], -xfreqs[Nx//2], yfreqs[0], -yfreqs[Ny//2]),\n",
        "                vmin=60, vmax=100)\n",
        "ax.set_xlabel('x Wavenumber')\n",
        "ax.set_ylabel('y Wavenumber')\n",
        "ax.set_title('Green Channel')\n",
        "fig.colorbar(cax, shrink=0.4, label='PSD (dB)')"
      ]
    },
    {
      "cell_type": "markdown",
      "metadata": {
        "collapsed": false,
        "id": "1QwxxVmHTL_j"
      },
      "source": [
        "### Blue Channel"
      ]
    },
    {
      "cell_type": "markdown",
      "metadata": {
        "collapsed": false,
        "id": "f7e4_gEGTL_9"
      },
      "source": [
        "The cell below displays the blue channel with a blue color map."
      ]
    },
    {
      "cell_type": "code",
      "execution_count": null,
      "metadata": {
        "id": "tjhIgmK6TL_-"
      },
      "outputs": [],
      "source": [
        "plt.imshow(pic[:,:,1], cmap='Blues', origin='lower')"
      ]
    },
    {
      "cell_type": "markdown",
      "metadata": {
        "collapsed": false,
        "id": "jG8yuRwSTL_-"
      },
      "source": [
        "The rest of the cells in this section perform the same calculations done for the red and green channels on the blue channel."
      ]
    },
    {
      "cell_type": "code",
      "execution_count": null,
      "metadata": {
        "id": "Xg9qQ3wtTL_-"
      },
      "outputs": [],
      "source": [
        "blue_fft = np.fft.fft2(pic[:,:,2])"
      ]
    },
    {
      "cell_type": "code",
      "execution_count": null,
      "metadata": {
        "id": "vMBe4eUtTL__"
      },
      "outputs": [],
      "source": [
        "np.min(20*np.log10(np.abs(blue_fft)))"
      ]
    },
    {
      "cell_type": "code",
      "execution_count": null,
      "metadata": {
        "id": "AQoGebyJTL__"
      },
      "outputs": [],
      "source": [
        "np.max(20*np.log10(np.abs(blue_fft)))"
      ]
    },
    {
      "cell_type": "code",
      "execution_count": null,
      "metadata": {
        "id": "KwhCHxXkTL__"
      },
      "outputs": [],
      "source": [
        "fig, ax = plt.subplots(figsize=(10,20))\n",
        "cax = ax.imshow(20*np.log10(np.abs(blue_fft[:Ny//2+1,:Nx//2+1])), origin='lower',\n",
        "                extent=(xfreqs[0], -xfreqs[Nx//2], yfreqs[0], -yfreqs[Ny//2]),\n",
        "                vmin=60, vmax=140)\n",
        "ax.set_xlabel('x Wavenumber')\n",
        "ax.set_ylabel('y Wavenumber')\n",
        "ax.set_title('Blue Channel')\n",
        "fig.colorbar(cax, shrink=0.4, label=\"log(PSD)\");"
      ]
    },
    {
      "cell_type": "code",
      "execution_count": null,
      "metadata": {
        "colab": {
          "background_save": true
        },
        "id": "Fph-jAAZTL__"
      },
      "outputs": [],
      "source": [
        "fig, ax = plt.subplots(figsize=(10,20), dpi=300)\n",
        "cax = ax.imshow(20*np.log10(np.abs(blue_fft[:Ny//2+1,:Nx//2+1])), origin='lower',\n",
        "                extent=(xfreqs[0], -xfreqs[Nx//2], yfreqs[0], -yfreqs[Ny//2]),\n",
        "                vmin=60, vmax=95)\n",
        "ax.set_xlabel('x Wavenumber')\n",
        "ax.set_ylabel('y Wavenumber')\n",
        "ax.set_title('Blue Channel')\n",
        "fig.colorbar(cax, shrink=0.4, label='PSD (dB)');"
      ]
    },
    {
      "cell_type": "markdown",
      "metadata": {
        "collapsed": false,
        "id": "x6NzXNYITL__"
      },
      "source": [
        "## Three Channels Combined (Grayscale)"
      ]
    },
    {
      "cell_type": "code",
      "execution_count": null,
      "metadata": {
        "id": "tlX-mtKuTL__"
      },
      "outputs": [],
      "source": [
        "pic.shape"
      ]
    },
    {
      "cell_type": "code",
      "execution_count": null,
      "metadata": {
        "id": "1aHxsItiTL__"
      },
      "outputs": [],
      "source": [
        "sum_image = np.array([], dtype=np.uint16)\n",
        "sum_image = np.uint16(pic[:,:,0]) + np.uint16(pic[:,:,1]) + np.uint16(pic[:,:,2])"
      ]
    },
    {
      "cell_type": "code",
      "execution_count": null,
      "metadata": {
        "id": "H0zt9HACTMAA",
        "scrolled": true
      },
      "outputs": [],
      "source": [
        "sum_image.shape"
      ]
    },
    {
      "cell_type": "code",
      "execution_count": null,
      "metadata": {
        "id": "7_D5uQq1TMAA",
        "scrolled": true
      },
      "outputs": [],
      "source": [
        "fig, ax = plt.subplots()\n",
        "cax = ax.imshow(sum_image, origin=\"lower\", cmap=\"gray\")\n",
        "fig.colorbar(cax, shrink=0.4, label='Summed Pixel Value');"
      ]
    },
    {
      "cell_type": "code",
      "execution_count": null,
      "metadata": {
        "colab": {
          "background_save": true
        },
        "id": "ARkg4GYhTMAA"
      },
      "outputs": [],
      "source": [
        "sum_fft = np.fft.fft2(sum_image)"
      ]
    },
    {
      "cell_type": "code",
      "execution_count": null,
      "metadata": {
        "colab": {
          "background_save": true
        },
        "id": "eNZv_GVWTMAA"
      },
      "outputs": [],
      "source": [
        "fig, ax = plt.subplots(figsize=(10,20), dpi=300)\n",
        "cax = ax.imshow(20*np.log10(np.abs(sum_fft[:Ny//2+1,:Nx//2+1])), origin='lower',\n",
        "                extent=(xfreqs[0], -xfreqs[Nx//2], yfreqs[0], -yfreqs[Ny//2]), vmin=90, vmax=120)\n",
        "ax.set_xlabel('x Wavenumber')\n",
        "ax.set_ylabel('y Wavenumber')\n",
        "ax.set_title('All Channels')\n",
        "fig.colorbar(cax, shrink=0.4, label='PSD (dB)');"
      ]
    },
    {
      "cell_type": "code",
      "execution_count": null,
      "metadata": {
        "colab": {
          "background_save": true
        },
        "id": "35IcM_flTMAA"
      },
      "outputs": [],
      "source": []
    }
  ],
  "metadata": {
    "colab": {
      "provenance": []
    },
    "kernelspec": {
      "display_name": "Python 3 (system-wide)",
      "language": "python",
      "name": "python3"
    },
    "language_info": {
      "codemirror_mode": {
        "name": "ipython",
        "version": 3
      },
      "file_extension": ".py",
      "mimetype": "text/x-python",
      "name": "python",
      "nbconvert_exporter": "python",
      "pygments_lexer": "ipython3",
      "version": "3.8.10"
    }
  },
  "nbformat": 4,
  "nbformat_minor": 0
}