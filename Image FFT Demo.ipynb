{
 "cells": [
  {
   "cell_type": "markdown",
   "metadata": {
    "collapsed": false
   },
   "source": [
    "# Image Processing"
   ]
  },
  {
   "cell_type": "markdown",
   "metadata": {
    "collapsed": false
   },
   "source": [
    "This Jupyter notebook demonstrates how to import images (not in RAW format) and do spatial Fourier transforms to obtain and display spatial power spectra."
   ]
  },
  {
   "cell_type": "markdown",
   "metadata": {
    "collapsed": false
   },
   "source": [
    "* Press `shift`-`enter` or `shift`-`return` when the cursor in in a cell or the cell is selected to run the code in the cell.\n",
    "* Run the code cells in order for this demonstration.\n",
    "* Remember that the order in which you run the cells is important, not the order they appear in the notebook.\n",
    "* Use this code as an example. Change the files and parameters to fit your needs."
   ]
  },
  {
   "cell_type": "markdown",
   "metadata": {
    "collapsed": false
   },
   "source": [
    "## Import Modules"
   ]
  },
  {
   "cell_type": "markdown",
   "metadata": {
    "collapsed": false
   },
   "source": [
    "The cell below to import the numerical and graphing modules and to configure the graphics interface."
   ]
  },
  {
   "cell_type": "code",
   "execution_count": 0,
   "metadata": {
    "collapsed": false
   },
   "outputs": [
   ],
   "source": [
    "import numpy as np\n",
    "import matplotlib.pyplot as plt\n",
    "import PIL"
   ]
  },
  {
   "cell_type": "markdown",
   "metadata": {
    "collapsed": false
   },
   "source": [
    "## Importing Images"
   ]
  },
  {
   "cell_type": "markdown",
   "metadata": {
    "collapsed": false
   },
   "source": [
    "We use a different function to import JPEG, PNG, TIFF, or other images."
   ]
  },
  {
   "cell_type": "code",
   "execution_count": 0,
   "metadata": {
    "collapsed": false
   },
   "outputs": [
   ],
   "source": [
    "im = PIL.Image.open('fig1.png')\n",
    "xmin, ymin, xmax, ymax = im.getbbox()\n",
    "pic1 = (np.array(im.getdata()).reshape(ymax-ymin, xmax-xmin))\n",
    "im.close()"
   ]
  },
  {
   "cell_type": "code",
   "execution_count": 0,
   "metadata": {
    "collapsed": false
   },
   "outputs": [
   ],
   "source": [
    "plt.imshow(pic1, origin='lower')"
   ]
  },
  {
   "cell_type": "code",
   "execution_count": 0,
   "metadata": {
    "collapsed": false
   },
   "outputs": [
   ],
   "source": [
    "im = PIL.Image.open('fig2.png')\n",
    "xmin, ymin, xmax, ymax = im.getbbox()\n",
    "pic2 = (np.array(im.getdata()).reshape(ymax-ymin, xmax-xmin))\n",
    "im.close()"
   ]
  },
  {
   "cell_type": "code",
   "execution_count": 0,
   "metadata": {
    "collapsed": false
   },
   "outputs": [
   ],
   "source": [
    "plt.imshow(pic2,origin='lower')"
   ]
  },
  {
   "cell_type": "markdown",
   "metadata": {
    "collapsed": false
   },
   "source": [
    "## pic1 Image Calculations"
   ]
  },
  {
   "cell_type": "markdown",
   "metadata": {
    "collapsed": false
   },
   "source": [
    "The cell below gives the shape of `pic1`. The first index is the y size. The second is the x size."
   ]
  },
  {
   "cell_type": "code",
   "execution_count": 0,
   "metadata": {
    "collapsed": false
   },
   "outputs": [
   ],
   "source": [
    "pic1.shape"
   ]
  },
  {
   "cell_type": "markdown",
   "metadata": {
    "collapsed": false
   },
   "source": [
    "The cell below stores the size of the x and y dimensions into variables (with shorter names) so we can use them later."
   ]
  },
  {
   "cell_type": "code",
   "execution_count": 0,
   "metadata": {
    "collapsed": false
   },
   "outputs": [
   ],
   "source": [
    "Nx = pic1.shape[1]\n",
    "Ny = pic1.shape[0]"
   ]
  },
  {
   "cell_type": "markdown",
   "metadata": {
    "collapsed": false
   },
   "source": [
    "Now we take a 2-D Fourier teansform (transform in both the x and y directions) of `pic1`."
   ]
  },
  {
   "cell_type": "code",
   "execution_count": 0,
   "metadata": {
    "collapsed": false
   },
   "outputs": [
   ],
   "source": [
    "pic1_fft = np.fft.fft2(pic1)"
   ]
  },
  {
   "cell_type": "markdown",
   "metadata": {
    "collapsed": false
   },
   "source": [
    "The cell below calculates the frequency values in the Fourier transform we just did. (We will use these same frequency values for the green and blue channels as well.) Since this is a spatial Fourier transform (the data is a function of position, not time), the frequncy values are called *wavenumbers*."
   ]
  },
  {
   "cell_type": "code",
   "execution_count": 0,
   "metadata": {
    "collapsed": false
   },
   "outputs": [
   ],
   "source": [
    "xfreqs = np.fft.fftfreq(Nx)\n",
    "yfreqs = np.fft.fftfreq(Ny)"
   ]
  },
  {
   "cell_type": "markdown",
   "metadata": {
    "collapsed": false
   },
   "source": [
    "The two cells below calculate the minimum and maximum power spectrum values for the signal. We take the logarithm of the power spectrum to compress the scale, much like we did for sound."
   ]
  },
  {
   "cell_type": "code",
   "execution_count": 0,
   "metadata": {
    "collapsed": false
   },
   "outputs": [
   ],
   "source": [
    "np.min(20*np.log10(np.abs(pic1_fft)))"
   ]
  },
  {
   "cell_type": "code",
   "execution_count": 0,
   "metadata": {
    "collapsed": false
   },
   "outputs": [
   ],
   "source": [
    "np.max(20*np.log10(np.abs(pic1_fft)))"
   ]
  },
  {
   "cell_type": "markdown",
   "metadata": {
    "collapsed": false
   },
   "source": [
    "The cell below shows the red channel spatial power spectrum. We use a decibel scale to compress the range of values much like we did with sound data. We use the standard color map (viridis) instead of the red color map because it is better at displaying a differences in values over a large range. We set the minimum and maximum values on the color scale with the `vmin` and `vmax` parameters in the `ax.imshow` command. (Try setting them to different values.) Notice that most of the large values are near the origin."
   ]
  },
  {
   "cell_type": "code",
   "execution_count": 0,
   "metadata": {
    "collapsed": false
   },
   "outputs": [
   ],
   "source": [
    "fig, ax = plt.subplots(figsize=(10,8))\n",
    "cax = ax.imshow(20*np.log10(np.abs(pic1_fft[:Ny//2+1,:Nx//2+1])), origin='lower', \n",
    "                extent=(xfreqs[0], -xfreqs[Nx//2], yfreqs[0], -yfreqs[Ny//2]), \n",
    "                vmin=120, vmax=140)\n",
    "ax.set_xlabel('x Wavenumber')\n",
    "ax.set_ylabel('y Wavenumber')\n",
    "fig.colorbar(cax, shrink=0.4, label='PSD (dB)');"
   ]
  },
  {
   "cell_type": "markdown",
   "metadata": {
    "collapsed": false
   },
   "source": [
    "We can magnify the plot to show the four peaks in the lower right using the command below."
   ]
  },
  {
   "cell_type": "code",
   "execution_count": 0,
   "metadata": {
    "collapsed": false
   },
   "outputs": [
   ],
   "source": [
    "fig, ax = plt.subplots(figsize=(10,8))\n",
    "cax = ax.imshow(20*np.log10(np.abs(pic1_fft[:Ny//2+1,:Nx//2+1])), origin='lower', \n",
    "                extent=(xfreqs[0], -xfreqs[Nx//2], yfreqs[0], -yfreqs[Ny//2]), \n",
    "                vmin=100, vmax=140)\n",
    "ax.set_xlim([0, 0.04])\n",
    "ax.set_ylim([0, 0.04])\n",
    "ax.set_aspect('auto')\n",
    "ax.set_xlabel('x Wavenumber')\n",
    "ax.set_ylabel('y Wavenumber')\n",
    "fig.colorbar(cax, shrink=0.4, label='PSD (dB)');"
   ]
  },
  {
   "cell_type": "markdown",
   "metadata": {
    "collapsed": false
   },
   "source": [
    "Now we use an inverst FFT to reconstruct the original image from the Fourier transform."
   ]
  },
  {
   "cell_type": "code",
   "execution_count": 0,
   "metadata": {
    "collapsed": false
   },
   "outputs": [
   ],
   "source": [
    "pic1_ifft = np.fft.ifft2(pic1_fft)"
   ]
  },
  {
   "cell_type": "code",
   "execution_count": 0,
   "metadata": {
    "collapsed": false,
    "tags": [
    ]
   },
   "outputs": [
   ],
   "source": [
    "plt.imshow(pic1_ifft.real, origin='lower')"
   ]
  },
  {
   "cell_type": "markdown",
   "metadata": {
    "collapsed": false,
    "tags": [
    ]
   },
   "source": [
    "Compare the image above to the pic1 image we imported at the beginning."
   ]
  },
  {
   "cell_type": "markdown",
   "metadata": {
    "collapsed": false
   },
   "source": [
    "## pic2 Image Calculations"
   ]
  },
  {
   "cell_type": "markdown",
   "metadata": {
    "collapsed": false
   },
   "source": [
    "The cell below gives the shape of `pic2`. The first index is the y size. The second is the x size."
   ]
  },
  {
   "cell_type": "code",
   "execution_count": 0,
   "metadata": {
    "collapsed": false
   },
   "outputs": [
   ],
   "source": [
    "pic2.shape"
   ]
  },
  {
   "cell_type": "markdown",
   "metadata": {
    "collapsed": false
   },
   "source": [
    "The cell below stores the size of the x and y dimensions into variables (with shorter names) so we can use them later."
   ]
  },
  {
   "cell_type": "code",
   "execution_count": 0,
   "metadata": {
    "collapsed": false
   },
   "outputs": [
   ],
   "source": [
    "Nx = pic2.shape[1]\n",
    "Ny = pic2.shape[0]"
   ]
  },
  {
   "cell_type": "markdown",
   "metadata": {
    "collapsed": false
   },
   "source": [
    "Now we take a 2-D Fourier teansform (transform in both the x and y directions) of `pic1`."
   ]
  },
  {
   "cell_type": "code",
   "execution_count": 0,
   "metadata": {
    "collapsed": false
   },
   "outputs": [
   ],
   "source": [
    "pic2_fft = np.fft.fft2(pic2)"
   ]
  },
  {
   "cell_type": "markdown",
   "metadata": {
    "collapsed": false
   },
   "source": [
    "The cell below calculates the frequency values in the Fourier transform we just did. (We will use these same frequency values for the green and blue channels as well.) Since this is a spatial Fourier transform (the data is a function of position, not time), the frequncy values are called *wavenumbers*."
   ]
  },
  {
   "cell_type": "code",
   "execution_count": 0,
   "metadata": {
    "collapsed": false
   },
   "outputs": [
   ],
   "source": [
    "xfreqs = np.fft.fftfreq(Nx)\n",
    "yfreqs = np.fft.fftfreq(Ny)"
   ]
  },
  {
   "cell_type": "markdown",
   "metadata": {
    "collapsed": false
   },
   "source": [
    "The two cells below calculate the minimum and maximum power spectrum values for the signal. We take the logarithm of the power spectrum to compress the scale, much like we did for sound."
   ]
  },
  {
   "cell_type": "code",
   "execution_count": 0,
   "metadata": {
    "collapsed": false
   },
   "outputs": [
   ],
   "source": [
    "np.min(20*np.log10(np.abs(pic2_fft)))"
   ]
  },
  {
   "cell_type": "code",
   "execution_count": 0,
   "metadata": {
    "collapsed": false
   },
   "outputs": [
   ],
   "source": [
    "np.max(20*np.log10(np.abs(pic2_fft)))"
   ]
  },
  {
   "cell_type": "markdown",
   "metadata": {
    "collapsed": false
   },
   "source": [
    "The cell below shows the red channel spatial power spectrum. We use a decibel scale to compress the range of values much like we did with sound data. We use the standard color map (viridis) instead of the red color map because it is better at displaying a differences in values over a large range. We set the minimum and maximum values on the color scale with the `vmin` and `vmax` parameters in the `ax.imshow` command. (Try setting them to different values.) Notice that most of the large values are near the origin."
   ]
  },
  {
   "cell_type": "code",
   "execution_count": 0,
   "metadata": {
    "collapsed": false
   },
   "outputs": [
   ],
   "source": [
    "fig, ax = plt.subplots(figsize=(10,8))\n",
    "cax = ax.imshow(20*np.log10(np.abs(pic2_fft[:Ny//2+1,:Nx//2+1])), origin='lower', \n",
    "                extent=(xfreqs[0], -xfreqs[Nx//2], yfreqs[0], -yfreqs[Ny//2]), \n",
    "                vmin=100, vmax=140)\n",
    "ax.set_xlabel('x Wavenumber')\n",
    "ax.set_ylabel('y Wavenumber')\n",
    "fig.colorbar(cax, shrink=0.4, label='PSD (dB)');"
   ]
  },
  {
   "cell_type": "markdown",
   "metadata": {
    "collapsed": false
   },
   "source": [
    "We can magnify the plot to show the peak line using the command below."
   ]
  },
  {
   "cell_type": "code",
   "execution_count": 0,
   "metadata": {
    "collapsed": false
   },
   "outputs": [
   ],
   "source": [
    "fig, ax = plt.subplots(figsize=(10,8))\n",
    "cax = ax.imshow(20*np.log10(np.abs(pic2_fft[:Ny//2+1,:Nx//2+1])), origin='lower', \n",
    "                extent=(xfreqs[0], -xfreqs[Nx//2], yfreqs[0], -yfreqs[Ny//2]), \n",
    "                vmin=100, vmax=140)\n",
    "ax.set_ylim([0, 0.02])\n",
    "ax.set_aspect('auto')\n",
    "ax.set_xlabel('x Wavenumber')\n",
    "ax.set_ylabel('y Wavenumber')\n",
    "fig.colorbar(cax, shrink=0.4, label='PSD (dB)');"
   ]
  },
  {
   "cell_type": "markdown",
   "metadata": {
    "collapsed": false
   },
   "source": [
    "Now we use an inverst FFT to reconstruct the original image from the Fourier transform."
   ]
  },
  {
   "cell_type": "code",
   "execution_count": 0,
   "metadata": {
    "collapsed": false
   },
   "outputs": [
   ],
   "source": [
    "pic2_ifft = np.fft.ifft2(pic2_fft)"
   ]
  },
  {
   "cell_type": "code",
   "execution_count": 0,
   "metadata": {
    "collapsed": false
   },
   "outputs": [
   ],
   "source": [
    "plt.imshow(pic2_ifft.real, origin='lower')"
   ]
  },
  {
   "cell_type": "markdown",
   "metadata": {
    "collapsed": false,
    "tags": [
    ]
   },
   "source": [
    "Compare the image above to the pic2 image we imported at the beginning."
   ]
  },
  {
   "cell_type": "code",
   "execution_count": 0,
   "metadata": {
    "collapsed": false
   },
   "outputs": [
   ],
   "source": [
   ]
  }
 ],
 "metadata": {
  "kernelspec": {
   "display_name": "Python 3 (system-wide)",
   "language": "python",
   "metadata": {
    "cocalc": {
     "description": "Python 3 programming language",
     "priority": 100,
     "url": "https://www.python.org/"
    }
   },
   "name": "python3",
   "resource_dir": "/ext/jupyter/kernels/python3"
  },
  "language_info": {
   "codemirror_mode": {
    "name": "ipython",
    "version": 3
   },
   "file_extension": ".py",
   "mimetype": "text/x-python",
   "name": "python",
   "nbconvert_exporter": "python",
   "pygments_lexer": "ipython3",
   "version": "3.9.5"
  }
 },
 "nbformat": 4,
 "nbformat_minor": 4
}