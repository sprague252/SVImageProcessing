{
 "cells": [
  {
   "cell_type": "markdown",
   "metadata": {
    "id": "orVWcVeNy5DN"
   },
   "source": [
    "# Set Up SVSoundAnalysis in Google Colab"
   ]
  },
  {
   "cell_type": "markdown",
   "metadata": {
    "id": "gMTxTlOHzM7Z"
   },
   "source": [
    "<a target=\"_blank\" href=\"https://colab.research.google.com/github/sprague252/SVImageProcessing/blob/master/ImageProcessingColabSetUp.ipynb\">\n",
    "  <img src=\"https://colab.research.google.com/assets/colab-badge.svg\" alt=\"Open In Colab\"/>\n",
    "</a>\n",
    "\n",
    "This notebook contains the commands needed to import and run the SVSoundAnalysis example on Google Colab.\n",
    "\n",
    "All the files you need for SVSoundAnalysis are on GitHub at https://github.com/sprague252/SVSoundAnalysis. In order to use them on Colab, we need to connect your Google Drive and then clone the files from GitHub to your drive. Once you have done this, you can run the notebooks directly from your Google Drive.\n",
    "\n",
    "If you are already running this notebook in Cloab, skip to the next section, and run all the commands. If you are not running this notebook in Cloab, click on the Open in Colab button just below the title above to open it in Colab and get started."
   ]
  },
  {
   "cell_type": "markdown",
   "metadata": {
    "id": "PzHbHatl3S7b"
   },
   "source": [
    "## 1. Connect your Google Drive"
   ]
  },
  {
   "cell_type": "markdown",
   "metadata": {
    "id": "83Lh2HrJ4dxA"
   },
   "source": [
    "Run the following command to connect this notebook to your Google Drive. Note that you can run the code in a cell by selecting the cell and pressing `shift-enter` or by bressing the triangle-shaped \"play\" button in the cell.\n",
    "\n",
    "An authorzation window will open asking for permission. You must grant this to continue."
   ]
  },
  {
   "cell_type": "code",
   "execution_count": null,
   "metadata": {
    "id": "Hb_axFBs-QnW"
   },
   "outputs": [],
   "source": [
    "from google.colab import drive\n",
    "drive.mount('/content/gdrive')"
   ]
  },
  {
   "cell_type": "markdown",
   "metadata": {
    "id": "fviQESyIzk8L"
   },
   "source": [
    "## 2. Pull SVSoundAnalysis files from GitHub"
   ]
  },
  {
   "cell_type": "markdown",
   "metadata": {
    "id": "K8WvkXvHzyXW"
   },
   "source": [
    "Now we will go to the top directory in your Google Drive and clone the SVImageProcessing repository fom GitHub into it. This will create a new directory in your Google Drive named `SVImageProcessing` with all of the files in the GitHub repository in it. Do this by entering the commands in the following cell.\n",
    "\n",
    "Note that you will get an error if you already have a directory named `SVImageProcessing`. To start over with a fresh copy of the repository delete or move the existing `SVImageProcessing` directory before running the command."
   ]
  },
  {
   "cell_type": "code",
   "execution_count": null,
   "metadata": {
    "id": "L_mR--_czx06"
   },
   "outputs": [],
   "source": [
    "%cd /content/gdrive/MyDrive\n",
    "! git clone https://github.com/sprague252/SVImageProcessing.git"
   ]
  },
  {
   "cell_type": "markdown",
   "metadata": {
    "id": "d4XN3dAyB1Vx"
   },
   "source": [
    "Now you are ready to run the SVImageProcessing notebooks in Colab. Go to your Google Drive and open one of the Jupyter Notebook files (they end in `.ipynb`) and run the cells in it. Each notebook has a Colab version and an version to use outside of Colab. The difference is the Colab version includes commands to install the packages not included on Colab by default."
   ]
  },
  {
   "cell_type": "code",
   "execution_count": null,
   "metadata": {},
   "outputs": [],
   "source": []
  }
 ],
 "metadata": {
  "colab": {
   "authorship_tag": "ABX9TyNsauDdHUSmtd9p3waB4toS",
   "provenance": []
  },
  "kernelspec": {
   "display_name": "Python 3 (ipykernel)",
   "language": "python",
   "name": "python3"
  },
  "language_info": {
   "codemirror_mode": {
    "name": "ipython",
    "version": 3
   },
   "file_extension": ".py",
   "mimetype": "text/x-python",
   "name": "python",
   "nbconvert_exporter": "python",
   "pygments_lexer": "ipython3",
   "version": "3.10.14"
  }
 },
 "nbformat": 4,
 "nbformat_minor": 4
}
